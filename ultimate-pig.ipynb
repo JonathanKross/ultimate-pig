{
 "cells": [
  {
   "cell_type": "code",
   "execution_count": 17,
   "metadata": {
    "collapsed": true
   },
   "outputs": [],
   "source": [
    "%matplotlib inline"
   ]
  },
  {
   "cell_type": "code",
   "execution_count": 18,
   "metadata": {
    "collapsed": true
   },
   "outputs": [],
   "source": [
    "import math\n",
    "import random\n",
    "import statistics as st\n",
    "import numpy as np\n",
    "import matplotlib.pyplot as plt"
   ]
  },
  {
   "cell_type": "code",
   "execution_count": 1,
   "metadata": {
    "collapsed": true
   },
   "outputs": [],
   "source": [
    "def roll_die():\n",
    "    return random.randint(1, 6)"
   ]
  },
  {
   "cell_type": "code",
   "execution_count": 2,
   "metadata": {
    "collapsed": true
   },
   "outputs": [],
   "source": [
    "class PigSolitaireGame:\n",
    "\n",
    "    def __init__(self, player):\n",
    "        self.player = player\n",
    "\n",
    "    def play_game(self):\n",
    "        total_points = 0\n",
    "\n",
    "        for _ in range(7):\n",
    "            total_points += self.player.play_turn()\n",
    "\n",
    "        return total_points"
   ]
  },
  {
   "cell_type": "code",
   "execution_count": 3,
   "metadata": {
    "collapsed": true
   },
   "outputs": [],
   "source": [
    "class Player:\n",
    "\n",
    "    def __init__(self):\n",
    "        self.points = 0\n",
    "        self.rolls = 0\n",
    "\n",
    "    def reset(self):\n",
    "        self.points = 0\n",
    "        self.rolls = 0\n",
    "\n",
    "    def is_rolling_again(self):\n",
    "        return False\n",
    "\n",
    "    def play_turn(self):\n",
    "        self.reset()\n",
    "\n",
    "        while True:\n",
    "            roll = roll_die()\n",
    "            self.rolls += 1\n",
    "\n",
    "            if roll == 1:\n",
    "                break\n",
    "            else:\n",
    "                self.points += roll\n",
    "\n",
    "            if not self.is_rolling_again():\n",
    "                break\n",
    "\n",
    "        return self.points"
   ]
  },
  {
   "cell_type": "code",
   "execution_count": 8,
   "metadata": {
    "collapsed": true
   },
   "outputs": [],
   "source": [
    "class LowPointsPlayer(Player):\n",
    "    def __init__(self):\n",
    "            super().__init__()\n",
    "\n",
    "    def is_rolling_again(self):\n",
    "        return self.points <= 8"
   ]
  },
  {
   "cell_type": "code",
   "execution_count": 9,
   "metadata": {
    "collapsed": true
   },
   "outputs": [],
   "source": [
    "class MediumPointsPlayer(Player):\n",
    "    def __init__(self):\n",
    "            super().__init__()\n",
    "\n",
    "    def is_rolling_again(self):\n",
    "        return self.points <= 16"
   ]
  },
  {
   "cell_type": "code",
   "execution_count": 6,
   "metadata": {
    "collapsed": true
   },
   "outputs": [],
   "source": [
    "class HighPointsPlayer(Player):\n",
    "    def __init__(self):\n",
    "            super().__init__()\n",
    "\n",
    "    def is_rolling_again(self):\n",
    "        return self.points <= 25"
   ]
  },
  {
   "cell_type": "code",
   "execution_count": 10,
   "metadata": {
    "collapsed": true
   },
   "outputs": [],
   "source": [
    "class LowRollsPlayer(Player):\n",
    "\n",
    "    def __init__(self):\n",
    "            super().__init__()\n",
    "\n",
    "    def is_rolling_again(self):\n",
    "        return self.rolls <= 2"
   ]
  },
  {
   "cell_type": "code",
   "execution_count": 11,
   "metadata": {
    "collapsed": true
   },
   "outputs": [],
   "source": [
    "class MediumRollsPlayer(Player):\n",
    "\n",
    "    def __init__(self):\n",
    "            super().__init__()\n",
    "\n",
    "    def is_rolling_again(self):\n",
    "        return self.rolls <= 4"
   ]
  },
  {
   "cell_type": "code",
   "execution_count": 12,
   "metadata": {
    "collapsed": true
   },
   "outputs": [],
   "source": [
    "class HighRollsPlayers(Player):\n",
    "\n",
    "    def __init__(self):\n",
    "            super().__init__()\n",
    "\n",
    "    def is_rolling_again(self):\n",
    "        return self.rolls <= 6"
   ]
  },
  {
   "cell_type": "code",
   "execution_count": 14,
   "metadata": {
    "collapsed": true
   },
   "outputs": [],
   "source": [
    "low_roll_sims = []\n",
    "medium_roll_sims = []\n",
    "high_roll_sims = []\n",
    "low_point_sims = []\n",
    "medium_point_sims = []\n",
    "high_point_sims = []\n"
   ]
  },
  {
   "cell_type": "code",
   "execution_count": 15,
   "metadata": {
    "collapsed": true
   },
   "outputs": [],
   "source": [
    "def run_sims(n):\n",
    "    while n > 0:\n",
    "\n",
    "        game = PigSolitaireGame(LowRollsPlayer())\n",
    "        low_roll_sims.append(game.play_game())\n",
    "\n",
    "        game = PigSolitaireGame(MediumRollsPlayer())\n",
    "        medium_roll_sims.append(game.play_game())\n",
    "\n",
    "        game = PigSolitaireGame(HighRollsPlayers())\n",
    "        high_roll_sims.append(game.play_game())\n",
    "\n",
    "        game = PigSolitaireGame(LowPointsPlayer())\n",
    "        low_point_sims.append(game.play_game())\n",
    "\n",
    "        game = PigSolitaireGame(MediumPointsPlayer())\n",
    "        medium_point_sims.append(game.play_game())\n",
    "\n",
    "        game = PigSolitaireGame(HighPointsPlayer())\n",
    "        high_point_sims.append(game.play_game())\n",
    "\n",
    "        n -= 1\n"
   ]
  },
  {
   "cell_type": "code",
   "execution_count": 19,
   "metadata": {
    "collapsed": false
   },
   "outputs": [],
   "source": [
    "run_sims(1000)"
   ]
  },
  {
   "cell_type": "code",
   "execution_count": 23,
   "metadata": {
    "collapsed": false
   },
   "outputs": [],
   "source": [
    "mean_high_points_plyr = st.mean(high_point_sims)\n",
    "stdev_high_points_plyr = st.stdev(high_point_sims)\n",
    "median_high_points_plyr = st.median(high_point_sims)                            \n",
    "max_high_points_plyr = max(high_point_sims)\n",
    "min_high_points_plyr = min(high_point_sims)               "
   ]
  },
  {
   "cell_type": "code",
   "execution_count": 28,
   "metadata": {
    "collapsed": false,
    "scrolled": true
   },
   "outputs": [
    {
     "data": {
      "image/png": "[encoded data removed]",
      "text/plain": [
       "<matplotlib.figure.Figure at 0x1102ac048>"
      ]
     },
     "metadata": {},
     "output_type": "display_data"
    }
   ],
   "source": [
    "plt.scatter(mean_high_points_plyr, label=\"mean\")\n",
    "plt.scatter(median_high_points_plyr, color='black', label=\"median\")\n",
    "plt.scatter(min_high_points_plyr, label=\"min\")\n",
    "plt.scatter(stdev_high_points_plyr, label=\"stdev\")\n",
    "plt.scatter(min_high_points_plyr)\n",
    "plt.scatter(loc='upper right')\n",
    "plt.show()"
   ]
  },
  {
   "cell_type": "code",
   "execution_count": 25,
   "metadata": {
    "collapsed": false
   },
   "outputs": [
    {
     "data": {
      "image/png": "[encoded data removed]",
      "text/plain": [
       "<matplotlib.figure.Figure at 0x11005b748>"
      ]
     },
     "metadata": {},
     "output_type": "display_data"
    }
   ],
   "source": [
    "plt.hist(high_point_sims)\n",
    "plt.show()"
   ]
  },
  {
   "cell_type": "code",
   "execution_count": 30,
   "metadata": {
    "collapsed": false
   },
   "outputs": [
    {
     "data": {
      "image/png": "[encoded data removed]",
      "text/plain": [
       "<matplotlib.figure.Figure at 0x11021f390>"
      ]
     },
     "metadata": {},
     "output_type": "display_data"
    }
   ],
   "source": [
    "plt.hist(medium_point_sims)\n",
    "plt.show()"
   ]
  },
  {
   "cell_type": "code",
   "execution_count": 31,
   "metadata": {
    "collapsed": false
   },
   "outputs": [
    {
     "data": {
      "image/png": "[encoded data removed]",
      "text/plain": [
       "<matplotlib.figure.Figure at 0x110507550>"
      ]
     },
     "metadata": {},
     "output_type": "display_data"
    }
   ],
   "source": [
    "plt.hist(low_point_sims)\n",
    "plt.show()"
   ]
  },
  {
   "cell_type": "code",
   "execution_count": 33,
   "metadata": {
    "collapsed": false
   },
   "outputs": [
    {
     "data": {
      "image/png": "[encoded data removed]",
      "text/plain": [
       "<matplotlib.figure.Figure at 0x1104afa20>"
      ]
     },
     "metadata": {},
     "output_type": "display_data"
    }
   ],
   "source": [
    "plt.hist(high_roll_sims)\n",
    "plt.show()"
   ]
  },
  {
   "cell_type": "code",
   "execution_count": 34,
   "metadata": {
    "collapsed": false
   },
   "outputs": [
    {
     "data": {
      "image/png": "[encoded data removed]",
      "text/plain": [
       "<matplotlib.figure.Figure at 0x11034d860>"
      ]
     },
     "metadata": {},
     "output_type": "display_data"
    }
   ],
   "source": [
    "plt.hist(medium_roll_sims)\n",
    "plt.show()"
   ]
  },
  {
   "cell_type": "code",
   "execution_count": 35,
   "metadata": {
    "collapsed": false
   },
   "outputs": [
    {
     "data": {
      "image/png": "[encoded data removed]",
      "text/plain": [
       "<matplotlib.figure.Figure at 0x11036aa90>"
      ]
     },
     "metadata": {},
     "output_type": "display_data"
    }
   ],
   "source": [
    "plt.hist(low_roll_sims)\n",
    "plt.show()"
   ]
  },
  {
   "cell_type": "code",
   "execution_count": null,
   "metadata": {
    "collapsed": true
   },
   "outputs": [],
   "source": []
  }
 ],
 "metadata": {
  "kernelspec": {
   "display_name": "Python 3",
   "language": "python",
   "name": "python3"
  },
  "language_info": {
   "codemirror_mode": {
    "name": "ipython",
    "version": 3
   },
   "file_extension": ".py",
   "mimetype": "text/x-python",
   "name": "python",
   "nbconvert_exporter": "python",
   "pygments_lexer": "ipython3",
   "version": "3.5.1"
  }
 },
 "nbformat": 4,
 "nbformat_minor": 0
}
